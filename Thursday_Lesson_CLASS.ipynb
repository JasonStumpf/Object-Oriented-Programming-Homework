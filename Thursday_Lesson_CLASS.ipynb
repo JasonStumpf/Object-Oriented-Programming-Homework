{
 "cells": [
  {
   "cell_type": "markdown",
   "metadata": {},
   "source": [
    "# Object-Oriented-Programming (OOP)"
   ]
  },
  {
   "cell_type": "markdown",
   "metadata": {},
   "source": [
    "## Tasks Today:\n",
    "\n",
    "   \n",
    "\n",
    "1) <b>Creating a Class (Initializing/Declaring)</b> <br>\n",
    "2) <b>Using a Class (Instantiating)</b> <br>\n",
    " &nbsp;&nbsp;&nbsp;&nbsp; a) Creating One Instance <br>\n",
    " &nbsp;&nbsp;&nbsp;&nbsp; b) Creating Multiple Instances <br>\n",
    " &nbsp;&nbsp;&nbsp;&nbsp; c) In-Class Exercise #1 - Create a Class 'Car' and instantiate three different makes of cars <br>\n",
    "3) <b>The \\__init\\__() Method</b> <br>\n",
    " &nbsp;&nbsp;&nbsp;&nbsp; a) The 'self' Attribute <br>\n",
    "4) <b>Class Attributes</b> <br>\n",
    " &nbsp;&nbsp;&nbsp;&nbsp; a) Initializing Attributes <br>\n",
    " &nbsp;&nbsp;&nbsp;&nbsp; b) Setting an Attribute Outside of the \\__init\\__() Method <br>\n",
    " &nbsp;&nbsp;&nbsp;&nbsp; c) Setting Defaults for Attributes <br>\n",
    " &nbsp;&nbsp;&nbsp;&nbsp; d) Accessing Class Attributes <br>\n",
    " &nbsp;&nbsp;&nbsp;&nbsp; e) Changing Class Attributes <br>\n",
    " &nbsp;&nbsp;&nbsp;&nbsp; f) In-Class Exercise #2 - Add a color and wheels attribute to your 'Car' class <br>\n",
    "5) <b>Class Methods</b> <br>\n",
    " &nbsp;&nbsp;&nbsp;&nbsp; a) Creating <br>\n",
    " &nbsp;&nbsp;&nbsp;&nbsp; b) Calling <br>\n",
    " &nbsp;&nbsp;&nbsp;&nbsp; c) Modifying an Attribute's Value Through a Method <br>\n",
    " &nbsp;&nbsp;&nbsp;&nbsp; d) Incrementing an Attribute's Value Through a Method <br>\n",
    " &nbsp;&nbsp;&nbsp;&nbsp; e) In-Class Exercise #3 - Add a method that prints the cars color and wheel number, then call them <br>\n",
    "6) <b>Inheritance</b> <br>\n",
    " &nbsp;&nbsp;&nbsp;&nbsp; a) Syntax for Inheriting from a Parent Class <br>\n",
    " &nbsp;&nbsp;&nbsp;&nbsp; b) The \\__init\\__() Method for a Child Class (super()) <br>\n",
    " &nbsp;&nbsp;&nbsp;&nbsp; c) Defining Attributes and Methods for the Child Class <br>\n",
    " &nbsp;&nbsp;&nbsp;&nbsp; d) Method Overriding <br>\n",
    " &nbsp;&nbsp;&nbsp;&nbsp; e) In-Class Exercise #4 - Create a class 'Ford' that inherits from 'Car' class and initialize it as a Blue Ford Explorer with 4 wheels using the super() method <br>\n",
    "7) <b>Classes as Attributes</b> <br>\n",
    "8) <b>Exercises</b> <br>\n",
    " &nbsp;&nbsp;&nbsp;&nbsp; a) Exercise #1 - Turn the shopping cart program from yesterday into an object-oriented program <br>"
   ]
  },
  {
   "cell_type": "markdown",
   "metadata": {},
   "source": [
    "## Creating a Class (Initializing/Declaring)\n",
    "<p>When creating a class, function, or even a variable you are initializing that object. Initializing and Declaring occur at the same time in Python, whereas in lower level languages you have to declare an object before initializing it. This is the first step in the process of using a class.</p>"
   ]
  },
  {
   "cell_type": "code",
   "execution_count": 9,
   "metadata": {},
   "outputs": [],
   "source": [
    "\n",
    "class Car():\n",
    "    wheels = 4\n",
    "    color = 'blue'\n",
    "    \n",
    "ford2 = {\n",
    "    'wheels' : 4\n",
    "}"
   ]
  },
  {
   "cell_type": "markdown",
   "metadata": {},
   "source": [
    "## Using a Class (Instantiating)\n",
    "<p>The process of creating a class is called <i>Instantiating</i>. Each time you create a variable of that type of class, it is referred to as an <i>Instance</i> of that class. This is the second step in the process of using a class.</p>"
   ]
  },
  {
   "cell_type": "markdown",
   "metadata": {},
   "source": [
    "##### Creating One Instance"
   ]
  },
  {
   "cell_type": "code",
   "execution_count": 10,
   "metadata": {},
   "outputs": [
    {
     "name": "stdout",
     "output_type": "stream",
     "text": [
      "<__main__.Car object at 0x0000023FBDBFCF10>\n",
      "<class '__main__.Car'>\n",
      "4\n",
      "4\n"
     ]
    }
   ],
   "source": [
    "ford = Car()\n",
    "print(ford)\n",
    "print(type(ford))\n",
    "print(ford2['wheels'])\n",
    "print(ford.wheels)"
   ]
  },
  {
   "cell_type": "markdown",
   "metadata": {},
   "source": [
    "##### Creating Multiple Instances"
   ]
  },
  {
   "cell_type": "code",
   "execution_count": 11,
   "metadata": {},
   "outputs": [
    {
     "name": "stdout",
     "output_type": "stream",
     "text": [
      "<__main__.Car object at 0x0000023FBDBFCF10> <__main__.Car object at 0x0000023FBDBFDB10> 4\n"
     ]
    }
   ],
   "source": [
    "honda = Car()\n",
    "chevy = Car()\n",
    "print(ford, chevy, honda.wheels)\n",
    "\n",
    "class Car():\n",
    "    wheels = 4\n",
    "    color = 'blue'"
   ]
  },
  {
   "cell_type": "markdown",
   "metadata": {},
   "source": [
    "##### In-Class Exercise #1 - Create a Class 'Car' and Instantiate three different makes of cars"
   ]
  },
  {
   "cell_type": "code",
   "execution_count": 12,
   "metadata": {},
   "outputs": [
    {
     "name": "stdout",
     "output_type": "stream",
     "text": [
      "4 blue 2023\n"
     ]
    }
   ],
   "source": [
    "class Car():\n",
    "    wheels = 4\n",
    "    color = 'blue'\n",
    "    year = 2023\n",
    "    \n",
    "toyota = Car()\n",
    "volvo = Car()\n",
    "kia = Car()\n",
    "\n",
    "print(toyota.wheels, volvo.color, kia.year) "
   ]
  },
  {
   "cell_type": "markdown",
   "metadata": {},
   "source": [
    "## The \\__init\\__() Method <br>\n",
    "<p>This method is used in almost every created class, and called only once upon the creation of the class instance. This method will initialize all variables needed for the object.</p>"
   ]
  },
  {
   "cell_type": "code",
   "execution_count": 14,
   "metadata": {},
   "outputs": [
    {
     "name": "stdout",
     "output_type": "stream",
     "text": [
      "2 False\n"
     ]
    }
   ],
   "source": [
    "# _ _ init _ _(self)\n",
    "class Car():\n",
    "    wheels = 4 # This is a constant attribute  -doesn't USUALLY change\n",
    "    \n",
    "    def __init__(self, doors, sunroof=False):\n",
    "        self.doors = doors\n",
    "        self.sunroof = sunroof\n",
    "        \n",
    "dodge = Car(2)\n",
    "print(dodge.doors, dodge.sunroof)"
   ]
  },
  {
   "cell_type": "markdown",
   "metadata": {},
   "source": [
    "##### The 'self' Attribute <br>\n",
    "<p>This attribute is required to keep track of specific instance's attributes. Without the self attribute, the program would not know how to reference or keep track of an instance's attributes.</p>"
   ]
  },
  {
   "cell_type": "code",
   "execution_count": null,
   "metadata": {},
   "outputs": [],
   "source": [
    "# see above"
   ]
  },
  {
   "cell_type": "markdown",
   "metadata": {},
   "source": [
    "## Class Attributes <br>\n",
    "<p>While variables are inside of a class, they are referred to as attributes and not variables. When someone says 'attribute' you know they're speaking about a class. Attributes can be initialized through the init method, or outside of it.</p>"
   ]
  },
  {
   "cell_type": "markdown",
   "metadata": {},
   "source": [
    "##### Initializing Attributes"
   ]
  },
  {
   "cell_type": "code",
   "execution_count": 4,
   "metadata": {},
   "outputs": [],
   "source": [
    "# see above\n",
    "\n",
    "class Music():\n",
    "    has_audio = True\n",
    "    \n",
    "    def __init__(self, vocals, instruments, tempo = 80):\n",
    "        self.vocals = vocals\n",
    "        self.instruments = instruments\n",
    "        self.tempo = tempo\n",
    "        \n",
    "  \n",
    "hip_hop = Music(True, 'beat')   "
   ]
  },
  {
   "cell_type": "markdown",
   "metadata": {},
   "source": [
    "##### Accessing Class Attributes"
   ]
  },
  {
   "cell_type": "code",
   "execution_count": null,
   "metadata": {
    "scrolled": true
   },
   "outputs": [],
   "source": [
    "# See Above"
   ]
  },
  {
   "cell_type": "markdown",
   "metadata": {},
   "source": [
    "##### Setting Defaults for Attributes"
   ]
  },
  {
   "cell_type": "code",
   "execution_count": null,
   "metadata": {},
   "outputs": [],
   "source": [
    "# See Above"
   ]
  },
  {
   "cell_type": "markdown",
   "metadata": {},
   "source": [
    "##### Changing Class Attributes <br>\n",
    "<p>Keep in mind there are global class attributes and then there are attributes only available to each class instance which won't effect other classes.</p>"
   ]
  },
  {
   "cell_type": "code",
   "execution_count": 17,
   "metadata": {},
   "outputs": [
    {
     "name": "stdout",
     "output_type": "stream",
     "text": [
      "2\n",
      "4\n",
      "DODGE DOORS- 4\n",
      "True\n"
     ]
    }
   ],
   "source": [
    "chevy = Car(4)\n",
    "print(dodge.doors)\n",
    "print(chevy.doors)\n",
    "chevy.wheels\n",
    "dodge.doors = 4\n",
    "print(f\"DODGE DOORS- {dodge.doors}\")\n",
    "dodge.flames = True\n",
    "print(dodge.flames)\n"
   ]
  },
  {
   "cell_type": "code",
   "execution_count": null,
   "metadata": {},
   "outputs": [],
   "source": []
  },
  {
   "cell_type": "markdown",
   "metadata": {},
   "source": [
    "##### In-Class Exercise #2 - Add a doors and seats attribute to your 'Car' class then print out two different instances with different doors and seats"
   ]
  },
  {
   "cell_type": "code",
   "execution_count": 25,
   "metadata": {},
   "outputs": [],
   "source": [
    "class Food():\n",
    "    def __init__(self, temp, texture, flavor):\n",
    "        self.temp = temp\n",
    "        self.texture = texture\n",
    "        self.flav = flavor\n",
    "        self.calories = True\n",
    "        "
   ]
  },
  {
   "cell_type": "code",
   "execution_count": 27,
   "metadata": {},
   "outputs": [
    {
     "name": "stdout",
     "output_type": "stream",
     "text": [
      "hot\n",
      "cold\n"
     ]
    }
   ],
   "source": [
    "taco = Food('hot','soft', 'spicy!')\n",
    "yogurt = Food('cold', 'smooth', 'creamy')\n",
    "\n",
    "print(taco.temp)\n",
    "print(yogurt.temp)      "
   ]
  },
  {
   "cell_type": "markdown",
   "metadata": {},
   "source": [
    "## Class Methods <br>\n",
    "<p>While inside of a class, functions are referred to as 'methods'. If you hear someone mention methods, they're speaking about classes. Methods are essentially functions, but only callable on the instances of a class.</p>"
   ]
  },
  {
   "cell_type": "markdown",
   "metadata": {},
   "source": [
    "##### Creating"
   ]
  },
  {
   "cell_type": "code",
   "execution_count": 35,
   "metadata": {},
   "outputs": [],
   "source": [
    "class Pickup():\n",
    "    \"\"\"\n",
    "    This class reps a redneck shop cart - aka truck.\n",
    "    has XX methods and does .  . ..\n",
    "    \"\"\"\n",
    "    \n",
    "    def __init__(self, wheels, gas_tank, bed):\n",
    "        self.wheels = wheels\n",
    "        self.gas_tank = gas_tank\n",
    "        self.bed = bed\n",
    "        \n",
    "    def check_tank(self):\n",
    "        print(f\"You have {self.gas_tank} gallons for now.\")\n",
    "        \n",
    "    def check_bed(self):\n",
    "        for x in self.bed:\n",
    "            print(x)\n",
    "            \n",
    "    def throw_in_back(self):\n",
    "        junk = input('What kinda junk did you just throw in the back?')\n",
    "        self.bed.append(junk)\n",
    "        \n",
    "    def throw_out(self):\n",
    "        toss = input('what  you wanna toss?')\n",
    "        self.bed.remove(toss)\n",
    "        self.check_bed()\n",
    "        \n",
    "    def fill_up(self):\n",
    "        gas = input(\"How much ya puttin' in the tank?\")\n",
    "        self.gas_tank += int(gas)\n",
    "        print(f\"Great, now you go {self.gas_tank} gallons in the tank.\")\n",
    "    \n",
    "    def run():\n",
    "        while True:\n",
    "            menu = input(\"a for add, s to show, t to toss, f to fill, q to quit\")\n",
    "        \n",
    "            if menu == 'q':\n",
    "                self.check_bed()\n",
    "                self.check_tank()\n",
    "                break\n",
    "            elif menu == 'a':\n",
    "                self.throw_in_back()\n",
    "            elif menu == 's':\n",
    "                self.check_bed()\n",
    "                self.check_tank()\n",
    "            elif menu == 't':\n",
    "                self.throw_out()\n",
    "            elif menu == 'f':\n",
    "                self.fill_up()"
   ]
  },
  {
   "cell_type": "markdown",
   "metadata": {},
   "source": [
    "##### Calling"
   ]
  },
  {
   "cell_type": "code",
   "execution_count": 36,
   "metadata": {},
   "outputs": [
    {
     "ename": "TypeError",
     "evalue": "Pickup.run() takes 0 positional arguments but 1 was given",
     "output_type": "error",
     "traceback": [
      "\u001b[1;31m---------------------------------------------------------------------------\u001b[0m",
      "\u001b[1;31mTypeError\u001b[0m                                 Traceback (most recent call last)",
      "Cell \u001b[1;32mIn[36], line 5\u001b[0m\n\u001b[0;32m      1\u001b[0m dukes \u001b[38;5;241m=\u001b[39m Pickup(\u001b[38;5;241m4\u001b[39m, \u001b[38;5;241m34\u001b[39m, [])\n\u001b[0;32m      2\u001b[0m \u001b[38;5;66;03m# dukes.check_tank()\u001b[39;00m\n\u001b[0;32m      3\u001b[0m \u001b[38;5;66;03m# dukes.throw_in_back()\u001b[39;00m\n\u001b[0;32m      4\u001b[0m \u001b[38;5;66;03m# dukes.check_bed()\u001b[39;00m\n\u001b[1;32m----> 5\u001b[0m \u001b[43mdukes\u001b[49m\u001b[38;5;241;43m.\u001b[39;49m\u001b[43mrun\u001b[49m\u001b[43m(\u001b[49m\u001b[43m)\u001b[49m\n",
      "\u001b[1;31mTypeError\u001b[0m: Pickup.run() takes 0 positional arguments but 1 was given"
     ]
    }
   ],
   "source": [
    "dukes = Pickup(4, 34, [])\n",
    "# dukes.check_tank()\n",
    "# dukes.throw_in_back()\n",
    "# dukes.check_bed()\n",
    "dukes.run()"
   ]
  },
  {
   "cell_type": "code",
   "execution_count": 32,
   "metadata": {},
   "outputs": [
    {
     "name": "stdout",
     "output_type": "stream",
     "text": [
      "a for add, s to show, t to toss, f to fill, q to quita\n",
      "What kinda junk did you just throw in the back?mufflers\n",
      "a for add, s to show, t to toss, f to fill, q to quita\n",
      "What kinda junk did you just throw in the back?copper wire\n",
      "a for add, s to show, t to toss, f to fill, q to quita\n",
      "What kinda junk did you just throw in the back?roadkill\n",
      "a for add, s to show, t to toss, f to fill, q to quitshow\n",
      "a for add, s to show, t to toss, f to fill, q to quits\n",
      "muffles\n",
      "mufflers\n",
      "copper wire\n",
      "roadkill\n",
      "You have 34 gallons for now.\n",
      "a for add, s to show, t to toss, f to fill, q to quitt\n",
      "what  you wanna toss?roadkill\n",
      "muffles\n",
      "mufflers\n",
      "copper wire\n",
      "a for add, s to show, t to toss, f to fill, q to quitq\n",
      "muffles\n",
      "mufflers\n",
      "copper wire\n",
      "You have 34 gallons for now.\n"
     ]
    }
   ],
   "source": [
    "def run():\n",
    "    while True:\n",
    "        menu = input(\"a for add, s to show, t to toss, f to fill, q to quit\")\n",
    "        \n",
    "        if menu == 'q':\n",
    "            dukes.check_bed()\n",
    "            dukes.check_tank()\n",
    "            break\n",
    "        elif menu == 'a':\n",
    "            dukes.throw_in_back()\n",
    "        elif menu == 's':\n",
    "            dukes.check_bed()\n",
    "            dukes.check_tank()\n",
    "        elif menu == 't':\n",
    "            dukes.throw_out()\n",
    "        elif menu == 'f':\n",
    "            dukes.fill_up()\n",
    "            \n",
    "run()\n",
    "        "
   ]
  },
  {
   "cell_type": "markdown",
   "metadata": {},
   "source": [
    "##### Modifying an Attribute's Value Through a Method"
   ]
  },
  {
   "cell_type": "code",
   "execution_count": 37,
   "metadata": {},
   "outputs": [
    {
     "name": "stdout",
     "output_type": "stream",
     "text": [
      "How much ya puttin' in the tank?78\n",
      "Great, now you go 112 gallons in the tank.\n"
     ]
    }
   ],
   "source": [
    "dukes.fill_up()"
   ]
  },
  {
   "cell_type": "markdown",
   "metadata": {},
   "source": [
    "##### Incrementing an Attribute's Value Through a Method"
   ]
  },
  {
   "cell_type": "code",
   "execution_count": null,
   "metadata": {},
   "outputs": [],
   "source": []
  },
  {
   "cell_type": "markdown",
   "metadata": {},
   "source": [
    "##### In-Class Exercise #3 - Add a method that takes in three parameters of year, doors and seats and prints out a formatted print statement with make, model, year, seats, and doors"
   ]
  },
  {
   "cell_type": "code",
   "execution_count": 38,
   "metadata": {},
   "outputs": [
    {
     "ename": "NameError",
     "evalue": "name 'self' is not defined",
     "output_type": "error",
     "traceback": [
      "\u001b[1;31m---------------------------------------------------------------------------\u001b[0m",
      "\u001b[1;31mNameError\u001b[0m                                 Traceback (most recent call last)",
      "Cell \u001b[1;32mIn[38], line 7\u001b[0m\n\u001b[0;32m      1\u001b[0m \u001b[38;5;66;03m# Create class with 2 paramters inside of the __init__ which are make and model\u001b[39;00m\n\u001b[0;32m      2\u001b[0m \n\u001b[0;32m      3\u001b[0m \u001b[38;5;66;03m# Inside of the Car class create a method that has 4 parameter in total (self,year,door,seats)\u001b[39;00m\n\u001b[0;32m      4\u001b[0m \n\u001b[0;32m      5\u001b[0m \u001b[38;5;66;03m# Output: This car is from 2019 and is a Ford Expolorer and has 4 doors and 5 seats\u001b[39;00m\n\u001b[1;32m----> 7\u001b[0m \u001b[38;5;28;01mclass\u001b[39;00m \u001b[38;5;21;01mCar\u001b[39;00m():\n\u001b[0;32m      8\u001b[0m     \u001b[38;5;28;01mdef\u001b[39;00m \u001b[38;5;21m__init__\u001b[39m(\u001b[38;5;28mself\u001b[39m, make, model):\n\u001b[0;32m      9\u001b[0m         \u001b[38;5;28mself\u001b[39m\u001b[38;5;241m.\u001b[39mmake \u001b[38;5;241m=\u001b[39m make\n",
      "Cell \u001b[1;32mIn[38], line 17\u001b[0m, in \u001b[0;36mCar\u001b[1;34m()\u001b[0m\n\u001b[0;32m     14\u001b[0m     \u001b[38;5;28mself\u001b[39m\u001b[38;5;241m.\u001b[39mdoor  \u001b[38;5;241m=\u001b[39m door\n\u001b[0;32m     15\u001b[0m     \u001b[38;5;28mself\u001b[39m\u001b[38;5;241m.\u001b[39mseats \u001b[38;5;241m=\u001b[39m seats\n\u001b[1;32m---> 17\u001b[0m \u001b[38;5;28mprint\u001b[39m(\u001b[38;5;124mf\u001b[39m\u001b[38;5;124m\"\u001b[39m\u001b[38;5;124mThis car is from \u001b[39m\u001b[38;5;132;01m{\u001b[39;00m\u001b[38;5;28mself\u001b[39m\u001b[38;5;241m.\u001b[39myear\u001b[38;5;132;01m}\u001b[39;00m\u001b[38;5;124m and is a \u001b[39m\u001b[38;5;132;01m{\u001b[39;00m\u001b[38;5;28mself\u001b[39m\u001b[38;5;241m.\u001b[39mmake\u001b[38;5;132;01m}\u001b[39;00m\u001b[38;5;124m \u001b[39m\u001b[38;5;132;01m{\u001b[39;00m\u001b[38;5;28mself\u001b[39m\u001b[38;5;241m.\u001b[39mmodel\u001b[38;5;132;01m}\u001b[39;00m\u001b[38;5;124m and has \u001b[39m\u001b[38;5;132;01m{\u001b[39;00m\u001b[38;5;28mself\u001b[39m\u001b[38;5;241m.\u001b[39mdoor\u001b[38;5;132;01m}\u001b[39;00m\u001b[38;5;124m doors and \u001b[39m\u001b[38;5;132;01m{\u001b[39;00m\u001b[38;5;28mself\u001b[39m\u001b[38;5;241m.\u001b[39mseats\u001b[38;5;132;01m}\u001b[39;00m\u001b[38;5;124m seats\u001b[39m\u001b[38;5;124m\"\u001b[39m)\n",
      "\u001b[1;31mNameError\u001b[0m: name 'self' is not defined"
     ]
    }
   ],
   "source": [
    "# Create class with 2 paramters inside of the __init__ which are make and model\n",
    "\n",
    "# Inside of the Car class create a method that has 4 parameter in total (self,year,door,seats)\n",
    "\n",
    "# Output: This car is from 2019 and is a Ford Expolorer and has 4 doors and 5 seats\n",
    "\n",
    "class Car():\n",
    "    def __init__(self, make, model):\n",
    "        self.make = make\n",
    "        self.model = model\n",
    "        \n",
    "    def car_facts(self, year, door, seats):\n",
    "        self.year = year\n",
    "        self.door  = door\n",
    "        self.seats = seats\n",
    "        \n",
    "    print(f\"This car is from {self.year} and is a {self.make} {self.model} and has {self.door} doors and {self.seats} seats\")\n",
    "    \n"
   ]
  },
  {
   "cell_type": "markdown",
   "metadata": {},
   "source": [
    "## Inheritance <br>\n",
    "<p>You can create a child-parent relationship between two classes by using inheritance. What this allows you to do is have overriding methods, but also inherit traits from the parent class. Think of it as an actual parent and child, the child will inherit the parent's genes, as will the classes in OOP</p>"
   ]
  },
  {
   "cell_type": "markdown",
   "metadata": {},
   "source": [
    "##### Syntax for Inheriting from a Parent Class"
   ]
  },
  {
   "cell_type": "code",
   "execution_count": 53,
   "metadata": {},
   "outputs": [
    {
     "name": "stdout",
     "output_type": "stream",
     "text": [
      "BARK!\n",
      "breathing. . .\n",
      "None\n",
      "breathing. . .\n",
      "None\n"
     ]
    }
   ],
   "source": [
    "class Mammal():\n",
    "    warm_blooded: True\n",
    "        \n",
    "    def __init__(self, name, species, legs=4):\n",
    "        self.name = name\n",
    "        self.species = species\n",
    "        self.legs = legs\n",
    "        \n",
    "    def make_sound(self):\n",
    "        print('breathing. . .')\n",
    "\n",
    "class Cat(Mammal): #this is an example of inheritance that isn't changing anything from the parent class\n",
    "    pass\n",
    "\n",
    "class Dog(Mammal):\n",
    "    loyal = True\n",
    "    \n",
    "    def print_info(self):\n",
    "        print(f\"It's generally {self.loyal} that dogs are loyal.\")\n",
    "        \n",
    "class Mutt(Dog):\n",
    "    color = 'Brown'\n",
    "    \n",
    "    def __init__(self, name, species, tail, legs=4):\n",
    "        Dog.__init__(self, name, species, legs)\n",
    "        self.tail = tail\n",
    "    def make_sound(self):\n",
    "        noise = 'BARK!'\n",
    "        return noise\n",
    "    \n",
    "fido = Dog('Fido', 'Husky')\n",
    "henry = Mutt('Henry', 'Mutt', 'Yeah')\n",
    "basic = Mammal('general', 'wolf')\n",
    "\n",
    "print(henry.make_sound())\n",
    "print(basic.make_sound())\n",
    "print(fido.make_sound())"
   ]
  },
  {
   "cell_type": "markdown",
   "metadata": {},
   "source": [
    "##### The \\__init\\__() Method for a Child Class - super()"
   ]
  },
  {
   "cell_type": "code",
   "execution_count": 54,
   "metadata": {
    "scrolled": true
   },
   "outputs": [
    {
     "name": "stdout",
     "output_type": "stream",
     "text": [
      "breathing. . .\n",
      "breathing. . .\n"
     ]
    }
   ],
   "source": [
    "class Mutt(Dog):\n",
    "    color = 'Brown'\n",
    "    \n",
    "    def __init__(self, name, species, tail, legs=4):\n",
    "        super().__init__(self, name, species, legs)\n",
    "        self.tail = tail\n",
    "    def make_sound(self):\n",
    "        noise = 'BARK!'\n",
    "        return noise\n",
    "    \n",
    "fido.make_sound()\n",
    "Dog.make_sound(fido)"
   ]
  },
  {
   "cell_type": "markdown",
   "metadata": {},
   "source": [
    "##### Defining Attributes and Methods for the Child Class"
   ]
  },
  {
   "cell_type": "code",
   "execution_count": null,
   "metadata": {},
   "outputs": [],
   "source": [
    "# see above"
   ]
  },
  {
   "cell_type": "markdown",
   "metadata": {},
   "source": [
    "##### Method Overriding"
   ]
  },
  {
   "cell_type": "code",
   "execution_count": null,
   "metadata": {},
   "outputs": [],
   "source": [
    "# see above"
   ]
  },
  {
   "cell_type": "markdown",
   "metadata": {},
   "source": [
    "## Classes as Attributes <br>\n",
    "<p>Classes can also be used as attributes within another class. This is useful in situations where you need to keep variables locally stored, instead of globally stored.</p>"
   ]
  },
  {
   "cell_type": "code",
   "execution_count": 56,
   "metadata": {},
   "outputs": [
    {
     "name": "stdout",
     "output_type": "stream",
     "text": [
      "This car: Rivian Truck. This battery: 64 cells and 42 volts\n"
     ]
    }
   ],
   "source": [
    "class Battery():\n",
    "    def __init__(self, cells):\n",
    "        self.volts = 42\n",
    "        self.cells = cells\n",
    "        \n",
    "class Elec_car():\n",
    "    def __init__(self, make, model, battery):\n",
    "        self.make = make\n",
    "        self.model = model\n",
    "        self.battery = battery\n",
    "        \n",
    "    def print_info(self):\n",
    "        return f\"This car: {self.make} {self.model}. This battery: {self.battery.cells} cells and {self.battery.volts} volts\"\n",
    "    \n",
    "battery = Battery(64)\n",
    "rivian = Elec_car('Rivian', 'Truck', battery)\n",
    "\n",
    "print(rivian.print_info())"
   ]
  },
  {
   "cell_type": "markdown",
   "metadata": {},
   "source": [
    "# Exercises"
   ]
  },
  {
   "cell_type": "markdown",
   "metadata": {},
   "source": [
    "### Exercise 1 - Turn the shopping cart program from yesterday into an object-oriented program\n",
    "\n",
    "The comments in the cell below are there as a guide for thinking about the problem. However, if you feel a different way is best for you and your own thought process, please do what feels best for you by all means."
   ]
  },
  {
   "cell_type": "code",
   "execution_count": 2,
   "metadata": {},
   "outputs": [
    {
     "name": "stdout",
     "output_type": "stream",
     "text": [
      "WELCOME TO SHOPPING CART!\n",
      "\n",
      "What would you like to do? (Show/Add/Delete/Quit): quit\n",
      "{}\n"
     ]
    }
   ],
   "source": [
    "# Create a class called cart that retains items and has methods to add, remove, and show\n",
    "\n",
    "class Cart():\n",
    "    \n",
    "    def __init__(self, cart):\n",
    "        self.cart = cart\n",
    "\n",
    "    def show_cart(self):\n",
    "        print(self.cart)\n",
    "\n",
    "    def add_to_cart(self):\n",
    "        item = input(\"What would you like to add: \")\n",
    "        value = input(\"How much of that would you like to add: \")\n",
    "        self.cart[item.lower()] = value.lower()\n",
    "\n",
    "    def remove_from_cart(self):\n",
    "        trash = input(\"What would you like to delete: \")\n",
    "        del self.cart[trash.lower()]\n",
    "\n",
    "groceries = Cart({})\n",
    "\n",
    "def shopping_cart():\n",
    "    print(\"WELCOME TO SHOPPING CART!\")\n",
    "    while True:\n",
    "        response = input(\"\\nWhat would you like to do? (Show/Add/Delete/Quit): \")\n",
    "        if response.lower() == 'show':\n",
    "            groceries.show_cart()\n",
    "            continue\n",
    "        elif response.lower() == 'add':\n",
    "            groceries.add_to_cart()\n",
    "            continue\n",
    "        elif response.lower() == 'delete':\n",
    "            groceries.remove_from_cart()\n",
    "            continue\n",
    "        elif response.lower() == 'quit':\n",
    "            groceries.show_cart()\n",
    "            break\n",
    "        else:\n",
    "            print(\"That is not a valid response.\")\n",
    "            continue\n",
    "            \n",
    "shopping_cart()"
   ]
  },
  {
   "cell_type": "markdown",
   "metadata": {},
   "source": [
    "### Exercise 2 - Write a Python class which has two methods get_String and print_String. get_String accept a string from the user and print_String print the string in upper case"
   ]
  },
  {
   "cell_type": "code",
   "execution_count": 7,
   "metadata": {},
   "outputs": [
    {
     "name": "stdout",
     "output_type": "stream",
     "text": [
      "Enter a sentence: tHiS iS a SeNtEnCe ThAt I aM tYpInG\n",
      "THIS IS A SENTENCE THAT I AM TYPING\n"
     ]
    }
   ],
   "source": [
    "class Sentences:\n",
    "    def __init__(self, words):\n",
    "        self.words = words\n",
    "\n",
    "    def get_String(self):\n",
    "        self.words = input(\"Enter a sentence: \")\n",
    "\n",
    "    def print_String(self):\n",
    "        print(self.words.upper())\n",
    "\n",
    "user_str = Sentences(\"\")\n",
    "\n",
    "def run():\n",
    "    user_str.get_String()\n",
    "    user_str.print_String()\n",
    "\n",
    "run()"
   ]
  },
  {
   "cell_type": "code",
   "execution_count": null,
   "metadata": {},
   "outputs": [],
   "source": []
  }
 ],
 "metadata": {
  "kernelspec": {
   "display_name": "Python 3 (ipykernel)",
   "language": "python",
   "name": "python3"
  },
  "language_info": {
   "codemirror_mode": {
    "name": "ipython",
    "version": 3
   },
   "file_extension": ".py",
   "mimetype": "text/x-python",
   "name": "python",
   "nbconvert_exporter": "python",
   "pygments_lexer": "ipython3",
   "version": "3.10.9"
  }
 },
 "nbformat": 4,
 "nbformat_minor": 2
}
